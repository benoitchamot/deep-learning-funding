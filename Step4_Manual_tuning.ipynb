{
 "cells": [
  {
   "cell_type": "markdown",
   "metadata": {},
   "source": [
    "### Small adjustment"
   ]
  },
  {
   "cell_type": "code",
   "execution_count": null,
   "metadata": {},
   "outputs": [],
   "source": []
  },
  {
   "cell_type": "code",
   "execution_count": null,
   "metadata": {},
   "outputs": [],
   "source": [
    "in_features = len(X.columns)\n",
    "in_units = 30\n",
    "internal_layers = [15, 4]\n",
    "internal_activation = ['gelu', 'selu']\n",
    "\n",
    "data_train = {'X': X_train_scaled, 'y': y_train}\n",
    "data_test = {'X': X_test_scaled, 'y': y_test}\n",
    "\n",
    "n_epochs = 40\n",
    "\n",
    "model_loss, model_accuracy, model = train_and_evaluate_model(data_train, data_test, in_features, in_units, internal_layers, internal_activation, n_epochs)\n",
    "\n",
    "print(f\"Loss: {100*model_loss:.2f}%\")\n",
    "print(f\"Accuracy: {100*model_accuracy:.2f}%\")"
   ]
  }
 ],
 "metadata": {
  "language_info": {
   "name": "python"
  }
 },
 "nbformat": 4,
 "nbformat_minor": 2
}
