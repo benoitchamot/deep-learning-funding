{
 "cells": [
  {
   "cell_type": "markdown",
   "metadata": {},
   "source": [
    "### Small adjustment"
   ]
  },
  {
   "cell_type": "code",
   "execution_count": 16,
   "metadata": {},
   "outputs": [],
   "source": [
    "# Import our dependencies\n",
    "from sklearn.model_selection import train_test_split\n",
    "from sklearn.preprocessing import StandardScaler\n",
    "import pandas as pd\n",
    "import tensorflow as tf\n",
    "import pickle\n",
    "import matplotlib.pyplot as plt\n",
    "\n",
    "#  Import and read the charity_data.csv.\n",
    "import pandas as pd \n",
    "application_df = pd.read_csv(\"https://static.bc-edx.com/data/dla-1-2/m21/lms/starter/charity_data.csv\")\n",
    "\n",
    "# Drop the non-beneficial ID columns, 'EIN' and 'NAME'.\n",
    "application_df = application_df.drop(columns=['EIN', 'NAME'])\n",
    "\n",
    "# Choose a cutoff value of 500 and create a list of application types to be replaced\n",
    "all_app_types = application_df['APPLICATION_TYPE'].value_counts().to_dict()\n",
    "application_types_to_replace = [i for i in all_app_types.keys() if all_app_types[i] < 500]\n",
    "\n",
    "# Replace in dataframe\n",
    "for app in application_types_to_replace:\n",
    "    application_df['APPLICATION_TYPE'] = application_df['APPLICATION_TYPE'].replace(app,\"Other\")\n",
    "\n",
    "# Choose a cutoff value and create a list of classifications to be replaced\n",
    "# use the variable name `classifications_to_replace`\n",
    "all_class_types = application_df['CLASSIFICATION'].value_counts().to_dict()\n",
    "classifications_to_replace = [i for i in all_class_types.keys() if all_class_types[i] < 1000]\n",
    "\n",
    "# Replace in dataframe\n",
    "for cls in classifications_to_replace:\n",
    "    application_df['CLASSIFICATION'] = application_df['CLASSIFICATION'].replace(cls,\"Other\")\n",
    "\n",
    "# Get all categorical data columns into a list\n",
    "dummies_cols = []\n",
    "\n",
    "cols = application_df.columns\n",
    "typs = application_df.dtypes.values\n",
    "\n",
    "for c in range(len(cols)):\n",
    "    if (typs[c] == 'object'):\n",
    "        dummies_cols.append(cols[c])\n",
    "\n",
    "# Convert categorical data to numeric with `pd.get_dummies`\n",
    "dummies_df = pd.get_dummies(application_df[dummies_cols])\n",
    "\n",
    "# Concatenate the DF with the dummy data with the original dataset\n",
    "concat_df = pd.concat([application_df, dummies_df], axis=1)\n",
    "\n",
    "# Drop the unused columns\n",
    "concat_df = concat_df.drop(columns=dummies_cols)\n",
    "\n",
    "# Split our preprocessed data into our features and target arrays\n",
    "y = concat_df['IS_SUCCESSFUL']\n",
    "X = concat_df.drop(columns='IS_SUCCESSFUL')\n",
    "\n",
    "# Split the preprocessed data into a training and testing dataset\n",
    "X_train, X_test, y_train, y_test = train_test_split(X, y, random_state=78)\n",
    "\n",
    "# Create a StandardScaler instances\n",
    "scaler = StandardScaler()\n",
    "\n",
    "# Fit the StandardScaler\n",
    "X_scaler = scaler.fit(X_train)\n",
    "\n",
    "# Scale the data\n",
    "X_train_scaled = X_scaler.transform(X_train)\n",
    "X_test_scaled = X_scaler.transform(X_test)\n",
    "\n",
    "def train_and_evaluate_model(data_train, data_test, in_features, in_units, internal_layers, internal_activation, n_epochs):\n",
    "\n",
    "    # Check the validity of the parameters\n",
    "    if len(internal_layers) == len(internal_activation):\n",
    "\n",
    "        n_hidden = len(internal_layers)\n",
    "    \n",
    "        nn = tf.keras.models.Sequential()\n",
    "\n",
    "        # First hidden layer\n",
    "        nn.add(tf.keras.layers.Dense(units=in_units, activation=\"relu\", input_dim=in_features))\n",
    "\n",
    "        # Add hidden layers\n",
    "        for i in range(n_hidden):\n",
    "            nn.add(tf.keras.layers.Dense(units=internal_layers[i], activation=internal_activation[i]))\n",
    "\n",
    "        # Output layer\n",
    "        nn.add(tf.keras.layers.Dense(units=1, activation=\"sigmoid\"))\n",
    "\n",
    "        # Compile the model\n",
    "        nn.compile(loss=\"binary_crossentropy\", optimizer=\"adam\", metrics=[\"accuracy\"])\n",
    "\n",
    "        # Train the model\n",
    "        nn.fit(data_train['X'], data_train['y'], epochs=n_epochs,verbose=0)\n",
    "\n",
    "        # Evaluate the model using the test data\n",
    "        model_loss, model_accuracy = nn.evaluate(data_test['X'],data_test['y'],verbose=2)\n",
    "\n",
    "        return model_loss, model_accuracy, nn\n",
    "    \n",
    "    else:\n",
    "        print('Error: internal_layers and internal_activation must be the same length')\n",
    "        print(f\"internal_layers has length {len(internal_layers)}.\")\n",
    "        print(f\"internal_activation has length {len(internal_activation)}.\")\n",
    "        return -1"
   ]
  },
  {
   "cell_type": "code",
   "execution_count": 7,
   "metadata": {},
   "outputs": [
    {
     "name": "stdout",
     "output_type": "stream",
     "text": [
      "Number of features: 43\n"
     ]
    }
   ],
   "source": [
    "print(f\"Number of features: {len(X.columns)}\")"
   ]
  },
  {
   "cell_type": "markdown",
   "metadata": {},
   "source": [
    "# Determining the number of layers and neurons\n",
    "We use the following reference: https://medium.com/geekculture/introduction-to-neural-network-2f8b8221fbd3\n",
    "\n",
    "This gives the following guidelines (some may be mutually exclusive):\n",
    "- We should use 1 or 2 hidden layers to cover most cases\n",
    "- The number of hidden neurons should be between the size of the input layer and the size of the output layer\n",
    "- The number of hidden neurons should be 2/3 the size of the input layer, plus the size of the output layer\n",
    "- The number of hidden neurons should be less than twice the size of the input layer\n",
    "- Most of the problems can be solved by using a single hidden layer with the number of neurons equal to the mean of the input and output layer. \n",
    "\n",
    "Based on this, we estabblish the following:\n",
    "- The input layer has 43 neurons (the number of features)\n",
    "- Number of hidden neurons (N): 1 < N < 43\n",
    "- N < 1 + 43 * 2/3 => N < 29\n",
    "- N < 2*43 => N < 86\n",
    "- N = (43 + 1)/2 = 22, within one layer"
   ]
  },
  {
   "cell_type": "code",
   "execution_count": 19,
   "metadata": {},
   "outputs": [
    {
     "name": "stdout",
     "output_type": "stream",
     "text": [
      "268/268 - 0s - loss: 0.5529 - accuracy: 0.7263 - 278ms/epoch - 1ms/step\n",
      "Loss: 55.29%\n",
      "Accuracy: 72.63%\n"
     ]
    }
   ],
   "source": [
    "in_features = len(X.columns)\n",
    "in_units = 43\n",
    "internal_layers = [22, 7]\n",
    "internal_activation = ['selu', 'selu']\n",
    "\n",
    "data_train = {'X': X_train_scaled, 'y': y_train}\n",
    "data_test = {'X': X_test_scaled, 'y': y_test}\n",
    "\n",
    "n_epochs = 20\n",
    "\n",
    "model_loss, model_accuracy, model = train_and_evaluate_model(data_train, data_test, in_features, in_units, internal_layers, internal_activation, n_epochs)\n",
    "\n",
    "print(f\"Loss: {100*model_loss:.2f}%\")\n",
    "print(f\"Accuracy: {100*model_accuracy:.2f}%\")"
   ]
  },
  {
   "cell_type": "code",
   "execution_count": 24,
   "metadata": {},
   "outputs": [
    {
     "name": "stdout",
     "output_type": "stream",
     "text": [
      "268/268 - 0s - loss: 0.5531 - accuracy: 0.7255 - 273ms/epoch - 1ms/step\n",
      "Loss: 55.31%\n",
      "Accuracy: 72.55%\n"
     ]
    }
   ],
   "source": [
    "in_features = len(X.columns)\n",
    "in_units = 22\n",
    "internal_layers = [7]\n",
    "internal_activation = ['selu']\n",
    "\n",
    "data_train = {'X': X_train_scaled, 'y': y_train}\n",
    "data_test = {'X': X_test_scaled, 'y': y_test}\n",
    "\n",
    "n_epochs = 25\n",
    "\n",
    "model_loss, model_accuracy, model = train_and_evaluate_model(data_train, data_test, in_features, in_units, internal_layers, internal_activation, n_epochs)\n",
    "\n",
    "print(f\"Loss: {100*model_loss:.2f}%\")\n",
    "print(f\"Accuracy: {100*model_accuracy:.2f}%\")"
   ]
  },
  {
   "cell_type": "markdown",
   "metadata": {},
   "source": [
    "## Keras tuner"
   ]
  },
  {
   "cell_type": "code",
   "execution_count": 26,
   "metadata": {},
   "outputs": [],
   "source": [
    "# Create a method that creates a new Sequential model with hyperparameter options\n",
    "def create_model(hp):\n",
    "\n",
    "    input_dim = 43\n",
    "\n",
    "\n",
    "    nn_model = tf.keras.models.Sequential()\n",
    "\n",
    "    # Allow kerastuner to decide which activation function to use in hidden layers\n",
    "    activation = hp.Choice('activation',['relu','selu','sigmoid','tanh'])\n",
    "    \n",
    "    # Allow kerastuner to decide number of neurons in first layer\n",
    "    nn_model.add(tf.keras.layers.Dense(units=hp.Int('first_units',\n",
    "        min_value=2,\n",
    "        max_value=30,\n",
    "        step=2), activation=activation, input_dim=input_dim))\n",
    "\n",
    "    # Allow kerastuner to decide number of hidden layers and neurons in hidden layers\n",
    "    for i in range(hp.Int('num_layers', 1, 2)):\n",
    "        nn_model.add(tf.keras.layers.Dense(units=hp.Int('units_' + str(i),\n",
    "            min_value=2,\n",
    "            max_value=10,\n",
    "            step=2),\n",
    "            activation=activation))\n",
    "    \n",
    "    nn_model.add(tf.keras.layers.Dense(units=1, activation=\"sigmoid\"))\n",
    "\n",
    "    # Compile the model\n",
    "    nn_model.compile(loss=\"binary_crossentropy\", optimizer='adam', metrics=[\"accuracy\"])\n",
    "    \n",
    "    return nn_model\n",
    "\n",
    "# Import the kerastuner library\n",
    "import keras_tuner as kt\n",
    "\n",
    "tuner = kt.Hyperband(\n",
    "    create_model,\n",
    "    objective=\"val_accuracy\",\n",
    "    max_epochs=20,\n",
    "    hyperband_iterations=2)"
   ]
  },
  {
   "cell_type": "code",
   "execution_count": 27,
   "metadata": {},
   "outputs": [
    {
     "name": "stdout",
     "output_type": "stream",
     "text": [
      "Trial 60 Complete [00h 00m 22s]\n",
      "val_accuracy: 0.7252478003501892\n",
      "\n",
      "Best val_accuracy So Far: 0.7286297082901001\n",
      "Total elapsed time: 00h 09m 15s\n"
     ]
    }
   ],
   "source": [
    "# Run the kerastuner search for best hyperparameters\n",
    "tuner.search(X_train_scaled,y_train,epochs=20,validation_data=(X_test_scaled,y_test))"
   ]
  },
  {
   "cell_type": "code",
   "execution_count": 28,
   "metadata": {},
   "outputs": [
    {
     "name": "stdout",
     "output_type": "stream",
     "text": [
      "268/268 - 0s - loss: 0.5523 - accuracy: 0.7286 - 336ms/epoch - 1ms/step\n",
      "Loss: 55.23%\n",
      "Accuracy: 72.86%\n"
     ]
    }
   ],
   "source": [
    "# Get best model hyperparameters\n",
    "best_hyper = tuner.get_best_hyperparameters(1)[0]\n",
    "best_hyper.values\n",
    "\n",
    "# Evaluate best model against full test data\n",
    "best_model = tuner.get_best_models(1)[0]\n",
    "model_loss, model_accuracy = best_model.evaluate(X_test_scaled,y_test,verbose=2)\n",
    "\n",
    "print(f\"Loss: {100*model_loss:.2f}%\")\n",
    "print(f\"Accuracy: {100*model_accuracy:.2f}%\")"
   ]
  },
  {
   "cell_type": "code",
   "execution_count": 29,
   "metadata": {},
   "outputs": [],
   "source": [
    "# Export the model to HDF5 file\n",
    "filename = 'AlphabetSoupCharity_Optimisation.h5'\n",
    "pickle.dump(best_model, open(filename, 'wb'))"
   ]
  },
  {
   "cell_type": "markdown",
   "metadata": {},
   "source": [
    "# Open pickled model"
   ]
  },
  {
   "cell_type": "code",
   "execution_count": 30,
   "metadata": {},
   "outputs": [
    {
     "name": "stderr",
     "output_type": "stream",
     "text": [
      "WARNING:absl:Skipping variable loading for optimizer 'Adam', because it has 17 variables whereas the saved optimizer has 1 variables. \n"
     ]
    },
    {
     "data": {
      "image/png": "[encoded data removed]",
      "text/plain": [
       "<IPython.core.display.Image object>"
      ]
     },
     "execution_count": 30,
     "metadata": {},
     "output_type": "execute_result"
    }
   ],
   "source": [
    "loaded_best_model = pickle.load(open('AlphabetSoupCharity_Optimisation.h5', 'rb'))\n",
    "dot_img_file = 'img/model_4.png'\n",
    "tf.keras.utils.plot_model(loaded_best_model, to_file=dot_img_file, show_shapes=True)"
   ]
  }
 ],
 "metadata": {
  "kernelspec": {
   "display_name": "dev",
   "language": "python",
   "name": "python3"
  },
  "language_info": {
   "codemirror_mode": {
    "name": "ipython",
    "version": 3
   },
   "file_extension": ".py",
   "mimetype": "text/x-python",
   "name": "python",
   "nbconvert_exporter": "python",
   "pygments_lexer": "ipython3",
   "version": "3.10.11"
  }
 },
 "nbformat": 4,
 "nbformat_minor": 2
}
